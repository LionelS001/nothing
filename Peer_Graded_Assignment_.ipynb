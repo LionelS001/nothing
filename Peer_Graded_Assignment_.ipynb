{
 "cells": [
  {
   "cell_type": "markdown",
   "metadata": {},
   "source": [
    "<h1><strong>Assignment Topic:</strong></h1>\n",
    "\n",
    "<h2>You will be provided with an empty Jupyterlite notebook which you will launch in the course, to complete this assignment. You will need to include a combination of markdown and code cells. You will likely need to use the Markdown cheat sheet to help you determine the appropriate syntax for your markdown.</h2>\n",
    "\n",
    "<h3>Guidelines for the submission:</h3>\n",
    "<h4>There are a total of 25 points possible for this final project.</h4>\n",
    "\n",
    "<ol>\n",
    "\n",
    "<li>Exercise 2 - Create a markdown cell with the title of the notebook. (1 pt)</li>\n",
    "\n",
    "<li>Exercise 3 - Create a markdown cell for an introduction. (1 pt)</li>\n",
    "\n",
    "<li>Exercise 4 - Create a markdown cell to list data science languages. (3 pts)</li>\n",
    "\n",
    "<li>Exercise 5 - Create a markdown cell to list data science libraries. (3 pts)</li>\n",
    "\n",
    "<li>Exercise 6 - Create a markdown cell with a table of Data Science tools. (3 pts)</li>\n",
    "\n",
    "<li>Exercise 7 - Create a markdown cell introducing arithmetic expression examples. (1 pt)</li>\n",
    "\n",
    "<li>Exercise 8 - Create a code cell to multiply and add numbers.(2 pts)</li>\n",
    "\n",
    "<li>Exercise 9 - Create a code cell to convert minutes to hours. (2 pts)</li>\n",
    "\n",
    "<li>Exercise 10 -Insert a markdown cell to list Objectives. (3 pts)</li>\n",
    "\n",
    "<li>Exercise 11 - Create a markdown cell to indicate the Author’s name. (2 pts)</li>\n",
    "\n",
    "<li>Exercise 12 - Share your notebook through GitHub (3 pts)</li>\n",
    "\n",
    "<li>Exercise 13 - Take a screenshot of the first page of the notebook. (1 pt)</li>\n",
    "\n",
    "</ol>"
   ]
  },
  {
   "cell_type": "markdown",
   "metadata": {},
   "source": [
    "<h1>Exercise 1: Create a Jupyter Notebook</h1>"
   ]
  },
  {
   "cell_type": "markdown",
   "metadata": {},
   "source": [
    "<h2><strong>Name:</strong> DataScienceEcosystem</h2>"
   ]
  },
  {
   "cell_type": "markdown",
   "metadata": {},
   "source": [
    "<strong>Exercise 2 - Create a markdown cell with the title of the notebook.</strong>"
   ]
  },
  {
   "cell_type": "markdown",
   "metadata": {},
   "source": [
    "<h1>Data Science Tools and Ecosystem</h1>"
   ]
  },
  {
   "cell_type": "markdown",
   "metadata": {},
   "source": [
    "<strong>Exercise 3 - Create a markdown cell for an introduction. (1 pt)</strong>"
   ]
  },
  {
   "cell_type": "markdown",
   "metadata": {},
   "source": [
    "<p>In this notebook, Data Science Tools and Ecosystem are summarized.<p>"
   ]
  },
  {
   "cell_type": "markdown",
   "metadata": {},
   "source": [
    "<strong>Objectives:</strong>\n",
    "<ul>\n",
    "    <li>List popular languages that Data Scientists use.</li>\n",
    "    <li>List commonly used libraries used by Data Scientists.</li>\n",
    "    <li>List a table of Data Science tools.</li>\n",
    "</ul>\n",
    " "
   ]
  },
  {
   "cell_type": "markdown",
   "metadata": {},
   "source": [
    "<strong>Exercise 4 - Create a markdown cell to list data science languages. (3 pts)</strong>"
   ]
  },
  {
   "cell_type": "markdown",
   "metadata": {},
   "source": [
    "Some of the popular languages that Data Scientists use are:\n",
    "<ol>\n",
    "    <li>C++</li>\n",
    "    <li>Python</li>\n",
    "    <li>Java</li>\n",
    "    <li>JavaScript</li>\n",
    "    <li>R</li>\n",
    "    <li>Scala</li>\n",
    "    <li>Julia</li>\n",
    "    <li>SQL</li>\n",
    "</ol>\n"
   ]
  },
  {
   "cell_type": "markdown",
   "id": "5c211684-5f77-4c28-bd23-590a3ab0b368",
   "metadata": {},
   "source": [
    "<strong>Exercise 5 - Create a markdown cell to list data science libraries. (3 pts)</strong>"
   ]
  },
  {
   "cell_type": "markdown",
   "metadata": {},
   "source": [
    "Some of the commonly used libraries used by Data Scientists include:\n",
    "<ol>\n",
    "    <li>Pandas</li>\n",
    "    <li>NumPy</li>\n",
    "    <li>TensorFlow</li>\n",
    "    <li>SciPy</li>\n",
    "    <li>Matplotlib</li>\n",
    "    <li>Keras</li>\n",
    "    <li>SciKit-Learn</li>\n",
    "    <li>PyTorch</li>\n",
    "    <li>BeautifulSoup</li>\n",
    "    <li>Statsmodels</li>\n",
    "</ol>"
   ]
  },
  {
   "cell_type": "markdown",
   "metadata": {},
   "source": [
    "<strong>Exercise 6 - Create a markdown cell with a table of Data Science tools. (3 pts)</strong>"
   ]
  },
  {
   "cell_type": "markdown",
   "id": "34f750eb-46e1-46e8-b8a1-45bf703d5cdb",
   "metadata": {},
   "source": [
    "| Tool           | Description                                                                                                                                                             |\n",
    "|----------------|-------------------------------------------------------------------------------------------------------------------------------------------------------------------------|\n",
    "| NumPy          | A fundamental library for numerical computing in Python, providing support for large, multi-dimensional arrays and matrices.                                            |\n",
    "| Pandas         | A powerful library for data manipulation and analysis, offering data structures like DataFrames for easy handling of structured data.                                  |\n",
    "| Matplotlib     | A popular plotting library for creating static, animated, and interactive visualizations in Python.                                                                  |\n",
    "| Seaborn        | A higher-level data visualization library built on top of Matplotlib, providing a simplified interface for creating attractive statistical graphics.               |\n",
    "| Scikit-learn   | A comprehensive machine learning library offering a wide range of supervised and unsupervised learning algorithms, along with tools for model selection and evaluation. |\n",
    "| TensorFlow     | An open-source deep learning library developed by Google, providing a flexible framework for building and deploying machine learning models, particularly neural networks. |\n",
    "| Keras          | A high-level neural networks API running on top of TensorFlow, simplifying the process of building and training deep learning models.                                  |\n",
    "| PyTorch        | A popular deep learning library offering dynamic computational graphs and an intuitive interface, widely used for research and development in the field of deep learning. |\n",
    "| SciPy          | A library for scientific and technical computing, providing a collection of numerical algorithms and functions for optimization, integration, interpolation, and more.     |\n",
    "| Statsmodels    | A library for statistical modeling and econometrics, offering a wide range of statistical models and tools for exploring and analyzing data.                            |\n"
  ]
  },
  {
   "cell_type": "markdown",
   "metadata": {},
   "source": [
    "<strong>Exercise 7 - Create a markdown cell introducing arithmetic expression examples. (1 pt)</strong>"
   ]
  },
  {
   "cell_type": "markdown",
   "metadata": {},
   "source": [
    "<h3>Below are a few examples of evaluating arithmetic expressions in Python</h3>"
   ]
  },
  {
   "cell_type": "markdown",
   "metadata": {},
   "source": [
    "## Arithmetic Expression Examples\n",
    "\n",
    "Arithmetic expressions are used to perform mathematical operations in programming. Here are a few examples:\n",
    "\n",
    "1. Addition: `5 + 4` evaluates to 9.\n",
    "2. Subtraction: `10 - 3` evaluates to 7.\n",
    "3. Multiplication: `6 * 2` evaluates to 12.\n",
    "4. Division: `15 / 3` evaluates to 5.\n",
    "5. Exponentiation: `2 ** 3` evaluates to 8.\n",
    "6. Modulo: `17 % 4` evaluates to 1.\n",
    "\n",
    "These examples demonstrate the basic arithmetic operations commonly used in programming languages. They can be applied to various data types, such as integers and floating-point numbers, to perform calculations."
  ]
  },

  {
   "cell_type": "markdown",
   "metadata": {},
   "source": [
    "<strong>Exercise 8 - Create a code cell to multiply and add numbers.(2 pts)</strong>"
   ]
  },

  {
  "cell_type": "code",
  "execution_count": 8,
  "metadata": {},
  "outputs": [
    {
      "data": {
        "text/plain": [
          "Multiplication Result: 15\n",
          "Addition Result: 9"
        ]
      },
      "execution_count": 8,
      "metadata": {},
      "output_type": "execute_result"
    }
  ],
  "source": [
    "# Multiply and add numbers\n",
    "a = 3\n",
    "b = 5\n",
    "multiply_result = a * b\n",
    "addition_result = a + b\n",
    "multiply_result, addition_result"
   ]
  },

  {
   "cell_type": "markdown",
   "metadata": {},
   "source": [
    "<strong>Exercise 9 - Create a code cell to convert minutes to hours. (2 pts)</strong>"
   ]
  },

  {
   "cell_type": "markdown",
   "metadata": {},
   "source": [
    "This will convert 200 minutes to hours by diving by 60"
   ]
  },

  {
   "cell_type": "code",
   "execution_count": 9,
   "metadata": {},
   "outputs": [
     {
       "data": {
         "text/plain": [
           "5"
         ]
       },
       "execution_count": 9,
       "metadata": {},
       "output_type": "execute_result"
    }
    ],
  "source": [
    "# Convert minutes to hours\n",
    "minutes = 300\n",
    "hours = minutes / 60\n",
    "hours"
    ]
  },

  {
   "cell_type": "markdown",
   "id": "8df63065-35dc-4418-a0dc-51c8589c0ce6",
   "metadata": {},
   "source": [
    "<strong>Exercise 10 -Insert a markdown cell to list Objectives.</strong>"
   ]
  },
  {
   "cell_type": "markdown",
   "id": "2ab21b9e-1ba9-4739-a770-c672cb525d65",
   "metadata": {},
   "source": [
    "<p>Below the introduction cell created in Exercise 3, insert a new markdown cell to list the objectives that this notebook covered (i.e. some of the key takeaways from the course). In this new cell start with an introductory line titled: Objectives: in bold font. Then using an unordered list (bullets) indicate 3 to 5 items covered in this notebook, such as List popular languages for Data Science.</p>"
   ]
  },
  {
   "cell_type": "markdown",
   "id": "2fe637ac-7c3c-4053-9a9f-7cadbb99d5b6",
   "metadata": {},
   "source": [
    "<strong>Exercise 11 - Create a markdown cell to indicate the Author’s name.</strong>"
   ]
  },

  {
   "cell_type": "markdown",
   "metadata": {},
   "source": [
    "<h2>Author:</h2> Jiawei Sui"
   ]
  }
 ],
 "metadata": {
  "kernelspec": {
   "display_name": "Python",
   "language": "python",
   "name": "conda-env-python-py"
  },
  "language_info": {
   "codemirror_mode": {
    "name": "ipython",
    "version": 3
   },
   "file_extension": ".py",
   "mimetype": "text/x-python",
   "name": "python",
   "nbconvert_exporter": "python",
   "pygments_lexer": "ipython3",
   "version": "3.7.12"
  }
 },
 "nbformat": 4,
 "nbformat_minor": 5
}
